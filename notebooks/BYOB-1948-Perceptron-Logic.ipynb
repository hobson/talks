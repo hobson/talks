{
 "metadata": {
  "name": "",
  "signature": "sha256:6bb28447c7c327ccd2cbbc84e8a4db3a305dfdae3834f52ba34c6987bd1cc38b"
 },
 "nbformat": 3,
 "nbformat_minor": 0,
 "worksheets": [
  {
   "cells": [
    {
     "cell_type": "markdown",
     "metadata": {},
     "source": [
      "# Data\n",
      "First we need example inputs and outputs.\n",
      "So lets use a simple real world system ... an *AND* logic gate..."
     ]
    },
    {
     "cell_type": "code",
     "collapsed": false,
     "input": [
      "from itertools import product\n",
      "from pprint import pprint\n",
      "import pandas as pd"
     ],
     "language": "python",
     "metadata": {},
     "outputs": []
    },
    {
     "cell_type": "code",
     "collapsed": false,
     "input": [
      "flat_training_set = [\n",
      "    [1, i1, i2, 1. if (i1 or i2) else -1]\n",
      "     for i1, i2 in product([0, 1], [0, 1])\n",
      "    ]\n",
      "columns = ['Bias', 'Input1', 'Input2', 'Output', 'Error', 'Err Count', 'W0', 'W1', 'W2']\n",
      "df = pd.DataFrame(flat_training_set, columns=columns[:4])\n",
      "print(df)\n",
      "\n",
      "threshold = 0.5\n",
      "learning_rate = 0.1\n",
      "weights = [0, 0, 0]\n",
      "training_set = [[row[:3], row[-1]] for row in flat_training_set]\n",
      "\n",
      "def dot_product(values, weights):\n",
      "    return sum(value * weight for value, weight in zip(values, weights))\n",
      "\n",
      "print(training_set)\n",
      "\n"
     ],
     "language": "python",
     "metadata": {},
     "outputs": [
      {
       "output_type": "stream",
       "stream": "stdout",
       "text": [
        "   Bias  Input1  Input2  Output\n",
        "0     1       0       0      -1\n",
        "1     1       0       1       1\n",
        "2     1       1       0       1\n",
        "3     1       1       1       1\n",
        "[[[1, 0, 0], -1], [[1, 0, 1], 1.0], [[1, 1, 0], 1.0], [[1, 1, 1], 1.0]]\n"
       ]
      }
     ],
     "prompt_number": 40
    },
    {
     "cell_type": "markdown",
     "metadata": {},
     "source": [
      "# Training\n",
      "Just push the weights halfway toward the right answer"
     ]
    },
    {
     "cell_type": "code",
     "collapsed": false,
     "input": [
      "training_set = [[[1, 0, 0], 1], [[1, 0, 1], 1], [[1, 1, 0], 1], [[1, 1, 1], -1]]\n",
      "\n",
      "ans = []\n",
      "error_count = len(training_set)\n",
      "weights = [0, 0, 0]\n",
      "for epoch in range(3):\n",
      "    print('-' * 20 + str(epoch) + '-'*20 + str(error_count))\n",
      "    error_count = 0\n",
      "    error_L2 = 0.\n",
      "    for input_vector, desired_output in training_set:\n",
      "        print(weights)\n",
      "        result = dot_product(input_vector, weights) > threshold\n",
      "        error = desired_output - result\n",
      "        error_L2 += error ** 2.\n",
      "        if abs(error) > 0.001:\n",
      "            error_count += 1\n",
      "            for index, value in enumerate(input_vector):\n",
      "                weights[index] += learning_rate * error * value\n",
      "        ans += [input_vector + [desired_output, (error_L2)**.5, error_count] + weights]\n",
      "    if error_count == 0:\n",
      "        break\n",
      "\n",
      "df = pd.DataFrame(ans, columns=columns)\n",
      "print(df)"
     ],
     "language": "python",
     "metadata": {},
     "outputs": [
      {
       "output_type": "stream",
       "stream": "stdout",
       "text": [
        "--------------------0--------------------4\n",
        "[0, 0, 0]\n",
        "[0.1, 0.0, 0.0]\n",
        "[0.2, 0.0, 0.1]\n",
        "[0.30000000000000004, 0.1, 0.1]\n",
        "--------------------1--------------------4\n",
        "[0.20000000000000004, 0.0, 0.0]\n",
        "[0.30000000000000004, 0.0, 0.0]\n",
        "[0.4, 0.0, 0.1]\n",
        "[0.5, 0.1, 0.1]\n",
        "--------------------2--------------------4\n",
        "[0.3, -0.1, -0.1]\n",
        "[0.4, -0.1, -0.1]\n",
        "[0.5, -0.1, 0.0]\n",
        "[0.6, 0.0, 0.0]\n",
        "    Bias  Input1  Input2  Output     Error  Err Count   W0   W1   W2\n",
        "0      1       0       0       1  1.000000          1  0.1  0.0  0.0\n",
        "1      1       0       1       1  1.414214          2  0.2  0.0  0.1\n",
        "2      1       1       0       1  1.732051          3  0.3  0.1  0.1\n",
        "3      1       1       1      -1  2.000000          4  0.2  0.0  0.0\n",
        "4      1       0       0       1  1.000000          1  0.3  0.0  0.0\n",
        "5      1       0       1       1  1.414214          2  0.4  0.0  0.1\n",
        "6      1       1       0       1  1.732051          3  0.5  0.1  0.1\n",
        "7      1       1       1      -1  2.645751          4  0.3 -0.1 -0.1\n",
        "8      1       0       0       1  1.000000          1  0.4 -0.1 -0.1\n",
        "9      1       0       1       1  1.414214          2  0.5 -0.1  0.0\n",
        "10     1       1       0       1  1.732051          3  0.6  0.0  0.0\n",
        "11     1       1       1      -1  2.645751          4  0.4 -0.2 -0.2\n"
       ]
      }
     ],
     "prompt_number": 46
    },
    {
     "cell_type": "code",
     "collapsed": false,
     "input": [],
     "language": "python",
     "metadata": {},
     "outputs": []
    },
    {
     "cell_type": "markdown",
     "metadata": {},
     "source": [
      "# Smarter Learning\n",
      "How would you improve this learning approach?\n",
      "Are we pushing too hard (learning rate too high)?"
     ]
    },
    {
     "cell_type": "markdown",
     "metadata": {},
     "source": [
      "# Activation Function\n",
      "A simple threshold/does fine for logic gate behavior"
     ]
    },
    {
     "cell_type": "code",
     "collapsed": false,
     "input": [
      "def activate(i):\n",
      "    if i >= 0.5:\n",
      "        return 1\n",
      "    return 0\n",
      "\n",
      "print(learn(training_set, activate=activate))"
     ],
     "language": "python",
     "metadata": {},
     "outputs": []
    },
    {
     "cell_type": "markdown",
     "metadata": {},
     "source": [
      "# Your Turn\n",
      "See if you can train a neuron to behave like a *NOR* logic gate"
     ]
    },
    {
     "cell_type": "code",
     "collapsed": false,
     "input": [],
     "language": "python",
     "metadata": {},
     "outputs": []
    },
    {
     "cell_type": "markdown",
     "metadata": {},
     "source": [
      "# Recursive Network\n",
      "Let's train a NN to beat you at Rock, Paper, Scissors\n",
      "All we have to do is play against it\n",
      "And punish or reward it with each good/bad move"
     ]
    },
    {
     "cell_type": "code",
     "collapsed": false,
     "input": [],
     "language": "python",
     "metadata": {},
     "outputs": []
    },
    {
     "cell_type": "markdown",
     "metadata": {},
     "source": [
      "# Tic-Tac-Toe?\n",
      "How long would it take to train a neural net\n",
      "To win at tic-tac-toe?\n",
      "With this simple training and back-propagation approach?"
     ]
    }
   ],
   "metadata": {}
  }
 ]
}