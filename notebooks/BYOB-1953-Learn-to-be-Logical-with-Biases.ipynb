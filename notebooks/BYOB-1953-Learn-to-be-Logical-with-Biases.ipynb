{
 "metadata": {
  "name": "",
  "signature": "sha256:5857e6b39fb27fdf943c3698872760928fd2689c5cc4e39b77491969524058f2"
 },
 "nbformat": 3,
 "nbformat_minor": 0,
 "worksheets": [
  {
   "cells": [
    {
     "cell_type": "markdown",
     "metadata": {},
     "source": [
      "# Data\n",
      "First we need example inputs and outputs.\n",
      "So lets use a simple real world system ... an *AND* logic gate..."
     ]
    },
    {
     "cell_type": "code",
     "collapsed": false,
     "input": [
      "from itertools import product\n",
      "from pprint import pprint\n",
      "training_set = [\n",
      "    [[1, i1, i2], [i1 | i2]]  # or |, and &, xor ^, shift-left <<, shift-right >>\n",
      "     for i1, i2 in product([0, 1], [0, 1])]\n",
      "pprint(training_set)"
     ],
     "language": "python",
     "metadata": {},
     "outputs": [
      {
       "output_type": "stream",
       "stream": "stdout",
       "text": [
        "[[[1, 0, 0], [0]], [[1, 0, 1], [1]], [[1, 1, 0], [1]], [[1, 1, 1], [1]]]\n"
       ]
      }
     ],
     "prompt_number": 24
    },
    {
     "cell_type": "markdown",
     "metadata": {},
     "source": [
      "# Training\n",
      "Just push the weights halfway toward the right answer"
     ]
    },
    {
     "cell_type": "code",
     "collapsed": false,
     "input": [
      "def learn(training_set=(), weights=(0., 0., 0.), learning_rate=0.5, activate=lambda x:x):\n",
      "    for inputs, outputs in training_set:\n",
      "        error = 0\n",
      "        for outp in outputs:\n",
      "            prediction = sum([activate(w * i) for i, w in zip(inputs, weights)])\n",
      "            error += outp - prediction\n",
      "        print('      error = {} - {} = {}'.format(outputs, prediction, error))\n",
      "        weights = [w + error * learning_rate for w in weights]\n",
      "        print('new weights = {}'.format(weights))\n",
      "    return weights\n",
      "weights = learn(training_set)"
     ],
     "language": "python",
     "metadata": {},
     "outputs": [
      {
       "output_type": "stream",
       "stream": "stdout",
       "text": [
        "      error = [0] - 0.0 = 0.0\n",
        "new weights = [0.0, 0.0, 0.0]\n",
        "      error = [1] - 0.0 = 1.0\n",
        "new weights = [0.5, 0.5, 0.5]\n",
        "      error = [1] - 1.0 = 0.0\n",
        "new weights = [0.5, 0.5, 0.5]\n",
        "      error = [1] - 1.5 = -0.5\n",
        "new weights = [0.25, 0.25, 0.25]\n"
       ]
      }
     ],
     "prompt_number": 20
    },
    {
     "cell_type": "code",
     "collapsed": false,
     "input": [
      "weights = learn(training_set, weights)\n",
      "weights = learn(training_set, weights)\n"
     ],
     "language": "python",
     "metadata": {},
     "outputs": [
      {
       "output_type": "stream",
       "stream": "stdout",
       "text": [
        "      error = [0] - 0.25 = -0.25\n",
        "new weights = [0.125, 0.125, 0.125]\n",
        "      error = [1] - 0.25 = 0.75\n",
        "new weights = [0.5, 0.5, 0.5]\n",
        "      error = [1] - 1.0 = 0.0\n",
        "new weights = [0.5, 0.5, 0.5]\n",
        "      error = [1] - 1.5 = -0.5\n",
        "new weights = [0.25, 0.25, 0.25]\n",
        "      error = [0] - 0.25 = -0.25\n",
        "new weights = [0.125, 0.125, 0.125]\n",
        "      error = [1] - 0.25 = 0.75\n",
        "new weights = [0.5, 0.5, 0.5]\n",
        "      error = [1] - 1.0 = 0.0\n",
        "new weights = [0.5, 0.5, 0.5]\n",
        "      error = [1] - 1.5 = -0.5\n",
        "new weights = [0.25, 0.25, 0.25]\n"
       ]
      }
     ],
     "prompt_number": 23
    },
    {
     "cell_type": "markdown",
     "metadata": {},
     "source": [
      "# Smarter Learning\n",
      "How would you improve this learning approach?\n",
      "Are we pushing too hard (learning rate too high)?"
     ]
    },
    {
     "cell_type": "markdown",
     "metadata": {},
     "source": [
      "# Activation Function\n",
      "A simple threshold/does fine for logic gate behavior"
     ]
    },
    {
     "cell_type": "code",
     "collapsed": false,
     "input": [
      "def activate(i):\n",
      "    if i >= 0.5:\n",
      "        return 1\n",
      "    return 0\n",
      "\n",
      "print(learn(training_set, activate=activate))"
     ],
     "language": "python",
     "metadata": {},
     "outputs": [
      {
       "output_type": "stream",
       "stream": "stdout",
       "text": [
        "0 - 0 = 0\n",
        "new weights = [0.0, 0.0]\n",
        "0 - 0 = 0\n",
        "new weights = [0.0, 0.0]\n",
        "0 - 0 = 0\n",
        "new weights = [0.0, 0.0]\n",
        "1 - 0 = 1\n",
        "new weights = [0.25, 0.25]\n",
        "0 - 0 = 0\n",
        "new weights = [0.25, 0.25]\n",
        "0 - 0 = 0\n",
        "new weights = [0.25, 0.25]\n",
        "0 - 0 = 0\n",
        "new weights = [0.25, 0.25]\n",
        "1 - 0 = 1\n",
        "new weights = [0.5, 0.5]\n",
        "[0.5, 0.5]\n"
       ]
      }
     ],
     "prompt_number": 24
    },
    {
     "cell_type": "markdown",
     "metadata": {},
     "source": [
      "# Your Turn\n",
      "See if you can train a neuron to behave like a *XOR* logic gate this time!"
     ]
    },
    {
     "cell_type": "code",
     "collapsed": false,
     "input": [],
     "language": "python",
     "metadata": {},
     "outputs": []
    },
    {
     "cell_type": "markdown",
     "metadata": {},
     "source": [
      "# Recursive Network\n",
      "Let's train a NN to beat you at Rock, Paper, Scissors\n",
      "All we have to do is play against it\n",
      "And punish or reward it with each good/bad move"
     ]
    },
    {
     "cell_type": "code",
     "collapsed": false,
     "input": [],
     "language": "python",
     "metadata": {},
     "outputs": []
    },
    {
     "cell_type": "markdown",
     "metadata": {},
     "source": [
      "# Tic-Tac-Toe?\n",
      "How long would it take to train a neural net\n",
      "To win at tic-tac-toe?\n",
      "With this simple training and back-propagation approach?"
     ]
    }
   ],
   "metadata": {}
  }
 ]
}