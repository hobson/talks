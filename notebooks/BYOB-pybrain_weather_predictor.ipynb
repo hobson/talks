{
 "metadata": {
  "name": "",
  "signature": "sha256:d882359a1d31ffe39d2c343ed329561f2ba16caf91e6e72144729087114569ce"
 },
 "nbformat": 3,
 "nbformat_minor": 0,
 "worksheets": [
  {
   "cells": [
    {
     "cell_type": "code",
     "collapsed": false,
     "input": [
      "from pug.ann.data import weather\n",
      "df = weather.daily('fresno')\n",
      "print(df.describe())"
     ],
     "language": "python",
     "metadata": {},
     "outputs": [
      {
       "output_type": "stream",
       "stream": "stdout",
       "text": [
        "       Max TemperatureF  Min TemperatureF  Max Dew PointF  MeanDew PointF  \\\n",
        "count         11.000000         11.000000       11.000000       11.000000   \n",
        "mean          82.636364         82.636364       69.363636       69.363636   \n",
        "std            6.422970          6.422970        4.863594        4.863594   \n",
        "min           73.000000         73.000000       59.000000       59.000000   \n",
        "25%           79.000000         79.000000       68.000000       68.000000   \n",
        "50%           82.000000         82.000000       70.000000       70.000000   \n",
        "75%           86.500000         86.500000       72.500000       72.500000   \n",
        "max           95.000000         95.000000       75.000000       75.000000   \n",
        "\n",
        "       Min DewpointF  Max Humidity  Mean Humidity  Min Humidity  \\\n",
        "count      11.000000     11.000000      11.000000     11.000000   \n",
        "mean       69.363636     65.727273      65.727273     65.727273   \n",
        "std         4.863594     17.158618      17.158618     17.158618   \n",
        "min        59.000000     30.000000      30.000000     30.000000   \n",
        "25%        68.000000     62.000000      62.000000     62.000000   \n",
        "50%        70.000000     70.000000      70.000000     70.000000   \n",
        "75%        72.500000     76.000000      76.000000     76.000000   \n",
        "max        75.000000     88.000000      88.000000     88.000000   \n",
        "\n",
        "       Max Sea Level PressureIn  Mean Sea Level PressureIn  \\\n",
        "count                 11.000000                  11.000000   \n",
        "mean                  29.853636                  29.853636   \n",
        "std                    0.087895                   0.087895   \n",
        "min                   29.690000                  29.690000   \n",
        "25%                   29.795000                  29.795000   \n",
        "50%                   29.870000                  29.870000   \n",
        "75%                   29.920000                  29.920000   \n",
        "max                   29.970000                  29.970000   \n",
        "\n",
        "       Min Sea Level PressureIn  Max VisibilityMiles  Mean VisibilityMiles  \\\n",
        "count                 11.000000            11.000000             11.000000   \n",
        "mean                  29.853636             5.818182              5.818182   \n",
        "std                    0.087895             0.404520              0.404520   \n",
        "min                   29.690000             5.000000              5.000000   \n",
        "25%                   29.795000             6.000000              6.000000   \n",
        "50%                   29.870000             6.000000              6.000000   \n",
        "75%                   29.920000             6.000000              6.000000   \n",
        "max                   29.970000             6.000000              6.000000   \n",
        "\n",
        "       Min VisibilityMiles  Max Wind SpeedMPH  Mean Wind SpeedMPH  \\\n",
        "count            11.000000          11.000000           11.000000   \n",
        "mean              5.818182           7.818182            7.818182   \n",
        "std               0.404520           5.776126            5.776126   \n",
        "min               5.000000           0.000000            0.000000   \n",
        "25%               6.000000           4.000000            4.000000   \n",
        "50%               6.000000           8.000000            8.000000   \n",
        "75%               6.000000          12.000000           12.000000   \n",
        "max               6.000000          17.000000           17.000000   \n",
        "\n",
        "       PrecipitationIn  CloudCover  WindDirDegrees  \n",
        "count               11   11.000000       11.000000  \n",
        "mean                 0    3.545455      142.545455  \n",
        "std                  0    1.213560      104.781070  \n",
        "min                  0    3.000000       -1.000000  \n",
        "25%                  0    3.000000       30.000000  \n",
        "50%                  0    3.000000      190.000000  \n",
        "75%                  0    3.000000      220.000000  \n",
        "max                  0    6.000000      270.000000  \n"
       ]
      }
     ],
     "prompt_number": 1
    },
    {
     "cell_type": "code",
     "collapsed": false,
     "input": [
      "from pug.ann import util\n",
      "ds = util.pybrain_dataset_from_dataframe(df)\n",
      "print(ds)"
     ],
     "language": "python",
     "metadata": {},
     "outputs": [
      {
       "ename": "ImportError",
       "evalue": "No module named customxml",
       "output_type": "pyerr",
       "traceback": [
        "\u001b[0;31m---------------------------------------------------------------------------\u001b[0m\n\u001b[0;31mImportError\u001b[0m                               Traceback (most recent call last)",
        "\u001b[0;32m<ipython-input-2-a6a849cda0c6>\u001b[0m in \u001b[0;36m<module>\u001b[0;34m()\u001b[0m\n\u001b[0;32m----> 1\u001b[0;31m \u001b[0;32mfrom\u001b[0m \u001b[0mpug\u001b[0m\u001b[0;34m.\u001b[0m\u001b[0mann\u001b[0m \u001b[0;32mimport\u001b[0m \u001b[0mutil\u001b[0m\u001b[0;34m\u001b[0m\u001b[0m\n\u001b[0m\u001b[1;32m      2\u001b[0m \u001b[0mds\u001b[0m \u001b[0;34m=\u001b[0m \u001b[0mutil\u001b[0m\u001b[0;34m.\u001b[0m\u001b[0mpybrain_dataset_from_dataframe\u001b[0m\u001b[0;34m(\u001b[0m\u001b[0mdf\u001b[0m\u001b[0;34m)\u001b[0m\u001b[0;34m\u001b[0m\u001b[0m\n\u001b[1;32m      3\u001b[0m \u001b[0;32mprint\u001b[0m\u001b[0;34m(\u001b[0m\u001b[0mds\u001b[0m\u001b[0;34m)\u001b[0m\u001b[0;34m\u001b[0m\u001b[0m\n",
        "\u001b[0;32m/home/hobs/.virtualenvs/totalgood/lib/python2.7/site-packages/pug/ann/util.py\u001b[0m in \u001b[0;36m<module>\u001b[0;34m()\u001b[0m\n\u001b[1;32m     19\u001b[0m \u001b[0mpb\u001b[0m \u001b[0;34m=\u001b[0m \u001b[0mpybrain\u001b[0m\u001b[0;34m\u001b[0m\u001b[0m\n\u001b[1;32m     20\u001b[0m \u001b[0;31m# from pybrain.supervised.trainers import Trainer\u001b[0m\u001b[0;34m\u001b[0m\u001b[0;34m\u001b[0m\u001b[0m\n\u001b[0;32m---> 21\u001b[0;31m \u001b[0;32mfrom\u001b[0m \u001b[0mpybrain\u001b[0m\u001b[0;34m.\u001b[0m\u001b[0mtools\u001b[0m\u001b[0;34m.\u001b[0m\u001b[0mcustomxml\u001b[0m \u001b[0;32mimport\u001b[0m \u001b[0mNetworkReader\u001b[0m\u001b[0;34m\u001b[0m\u001b[0m\n\u001b[0m\u001b[1;32m     22\u001b[0m \u001b[0;32mfrom\u001b[0m \u001b[0mpybrain\u001b[0m\u001b[0;34m.\u001b[0m\u001b[0mstructure\u001b[0m\u001b[0;34m.\u001b[0m\u001b[0mparametercontainer\u001b[0m \u001b[0;32mimport\u001b[0m \u001b[0mParameterContainer\u001b[0m\u001b[0;34m\u001b[0m\u001b[0m\n\u001b[1;32m     23\u001b[0m \u001b[0;32mfrom\u001b[0m \u001b[0mpybrain\u001b[0m\u001b[0;34m.\u001b[0m\u001b[0mstructure\u001b[0m\u001b[0;34m.\u001b[0m\u001b[0mconnections\u001b[0m\u001b[0;34m.\u001b[0m\u001b[0mconnection\u001b[0m \u001b[0;32mimport\u001b[0m \u001b[0mConnection\u001b[0m\u001b[0;34m\u001b[0m\u001b[0m\n",
        "\u001b[0;31mImportError\u001b[0m: No module named customxml"
       ]
      }
     ],
     "prompt_number": 2
    },
    {
     "cell_type": "code",
     "collapsed": false,
     "input": [
      "nn = util.build_ann(ds)\n",
      "print(nn)"
     ],
     "language": "python",
     "metadata": {},
     "outputs": [
      {
       "output_type": "stream",
       "stream": "stdout",
       "text": [
        "FeedForwardNetwork-26\n",
        "   Modules:\n",
        "    [<LinearLayer 'input'>, <LinearLayer 'hidden'>, <LinearLayer 'output'>]\n",
        "   Connections:\n",
        "    [<FullConnection 'FullConnection-24': 'input' -> 'hidden'>, <FullConnection 'FullConnection-25': 'hidden' -> 'output'>]\n",
        "\n"
       ]
      }
     ],
     "prompt_number": 7
    },
    {
     "cell_type": "code",
     "collapsed": false,
     "input": [
      "train = util.pb.supervised.RPropMinusTrainer(nn)\n",
      "print(train)"
     ],
     "language": "python",
     "metadata": {},
     "outputs": [
      {
       "output_type": "stream",
       "stream": "stdout",
       "text": [
        "<RPropMinusTrainer 'RPropMinusTrainer-27'>\n"
       ]
      }
     ],
     "prompt_number": 8
    },
    {
     "cell_type": "code",
     "collapsed": false,
     "input": [
      "ans = train.trainUntilConvergence(ds, maxEpochs=10, verbose=True)\n",
      "print(ans)\n"
     ],
     "language": "python",
     "metadata": {},
     "outputs": [
      {
       "output_type": "stream",
       "stream": "stdout",
       "text": [
        "('train-errors:', '[4139.9   , 3955.19  , 3783.37  , 3593.29  , 3361.81  , 3090.66  , 2774.69  , 2410.03  , 1998.28  , 1471.81  , 884.475  ]')\n",
        "('valid-errors:', '[4089.56  , 3908.32  , 3739.71  , 3553.19  , 3326.07  , 3060.06  , 2750.15  , 2392.57  , 1988.98  , 1473.55  , 894.674  , 423.093  ]')\n",
        "([4139.8960310591647, 3955.191433542142, 3783.3687206428003, 3593.2905941074878, 3361.8118032012608, 3090.6559403249894, 2774.687119950866, 2410.0314517727843, 1998.2758315700733, 1471.8059671912513], [4089.558608459422, 3908.3175470810306, 3739.7128566666015, 3553.1868896701071, 3326.0701954487186, 3060.0598032364178, 2750.1454518823525, 2392.5749056935315, 1988.9815833485743, 1473.5486603940292, 894.67433311603281])\n"
       ]
      }
     ],
     "prompt_number": 9
    }
   ],
   "metadata": {}
  }
 ]
}